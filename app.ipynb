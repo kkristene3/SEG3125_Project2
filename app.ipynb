{
 "cells": [
  {
   "cell_type": "code",
   "execution_count": 43,
   "id": "133fff1a-3c0a-4dff-a6b4-121e69eb38e1",
   "metadata": {},
   "outputs": [
    {
     "name": "stdout",
     "output_type": "stream",
     "text": [
      "Running on local URL:  http://127.0.0.1:7881\n",
      "\n",
      "Thanks for being a Gradio user! If you have questions or feedback, please join our Discord server and chat with us: https://discord.gg/feTf9x3ZSB\n",
      "\n",
      "To create a public link, set `share=True` in `launch()`.\n"
     ]
    },
    {
     "data": {
      "text/html": [
       "<div><iframe src=\"http://127.0.0.1:7881/\" width=\"100%\" height=\"500\" allow=\"autoplay; camera; microphone; clipboard-read; clipboard-write;\" frameborder=\"0\" allowfullscreen></iframe></div>"
      ],
      "text/plain": [
       "<IPython.core.display.HTML object>"
      ]
     },
     "metadata": {},
     "output_type": "display_data"
    },
    {
     "data": {
      "text/plain": []
     },
     "execution_count": 43,
     "metadata": {},
     "output_type": "execute_result"
    }
   ],
   "source": [
    "# imports\n",
    "import gradio as gr\n",
    "from groq import Groq\n",
    "import os\n",
    "\n",
    "# Set up API key\n",
    "GROQ_API_KEY = \"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\"\n",
    "api_key = os.getenv(\"GROQ_API_KEY\", GROQ_API_KEY)\n",
    "client = Groq(api_key=api_key) \n",
    "\n",
    "# stream function\n",
    "def chat_with_groq(message, history):\n",
    "    # conversation history\n",
    "    messages = [{\n",
    "        \"role\": \"system\", \n",
    "        \"content\": \"You are an expert in psychology. Provide sympathy and comfort. Offer actionable advice to get through tough times and suggest real-life examples. Be light-hearted and funny with the responses.\"}]\n",
    "    \n",
    "    # Add previous conversation history\n",
    "    for user_msg, bot_reply in history:\n",
    "        messages.append({\"role\": \"user\", \"content\": user_msg})\n",
    "        messages.append({\"role\": \"assistant\", \"content\": bot_reply})\n",
    "\n",
    "    # Add the latest user message\n",
    "    messages.append({\"role\": \"user\", \"content\": message})\n",
    "\n",
    "    # Call LLM\n",
    "    response = client.chat.completions.create(\n",
    "        model=\"llama-3.3-70b-versatile\",\n",
    "        messages=messages,\n",
    "        temperature=0.7,\n",
    "        max_completion_tokens=512,\n",
    "    )\n",
    "\n",
    "    # Get the AI response\n",
    "    ai_message = response.choices[0].message.content\n",
    "    return ai_message  # Return the response\n",
    "\n",
    "# static function \n",
    "def static_story(scenario):\n",
    "    pass\n",
    "\n",
    "# Set up Gradio chat interface\n",
    "demo = gr.ChatInterface(\n",
    "    chat_with_groq\n",
    ")\n",
    "\n",
    "# Run chatbot\n",
    "demo.launch()\n"
   ]
  },
  {
   "cell_type": "code",
   "execution_count": null,
   "id": "40b82e6d-998e-4e9c-bdbf-9d1de8905f47",
   "metadata": {},
   "outputs": [],
   "source": []
  }
 ],
 "metadata": {
  "kernelspec": {
   "display_name": "Python 3 (ipykernel)",
   "language": "python",
   "name": "python3"
  },
  "language_info": {
   "codemirror_mode": {
    "name": "ipython",
    "version": 3
   },
   "file_extension": ".py",
   "mimetype": "text/x-python",
   "name": "python",
   "nbconvert_exporter": "python",
   "pygments_lexer": "ipython3",
   "version": "3.9.7"
  }
 },
 "nbformat": 4,
 "nbformat_minor": 5
}
