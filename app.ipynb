{
 "cells": [
  {
   "cell_type": "code",
   "execution_count": 7,
   "id": "133fff1a-3c0a-4dff-a6b4-121e69eb38e1",
   "metadata": {
    "scrolled": true
   },
   "outputs": [
    {
     "name": "stdout",
     "output_type": "stream",
     "text": [
      "* Running on local URL:  http://127.0.0.1:7865\n",
      "\n",
      "To create a public link, set `share=True` in `launch()`.\n"
     ]
    },
    {
     "data": {
      "text/html": [
       "<div><iframe src=\"http://127.0.0.1:7865/\" width=\"100%\" height=\"500\" allow=\"autoplay; camera; microphone; clipboard-read; clipboard-write;\" frameborder=\"0\" allowfullscreen></iframe></div>"
      ],
      "text/plain": [
       "<IPython.core.display.HTML object>"
      ]
     },
     "metadata": {},
     "output_type": "display_data"
    },
    {
     "data": {
      "text/plain": []
     },
     "execution_count": 7,
     "metadata": {},
     "output_type": "execute_result"
    }
   ],
   "source": [
    "# imports\n",
    "import gradio as gr\n",
    "from groq import Groq\n",
    "import os\n",
    "from dotenv import load_dotenv\n",
    "import streamlit as st\n",
    "\n",
    "# load env variables\n",
    "load_dotenv()\n",
    "\n",
    "# Set up API key\n",
    "api_key = os.getenv(\"GROQ_API_KEY\")\n",
    "client = Groq(api_key=api_key) \n",
    "\n",
    "# stream function\n",
    "def chat_with_groq(message, history):\n",
    "    # conversation history\n",
    "    messages = [{\n",
    "        \"role\": \"system\", \n",
    "        \"content\": (\"You are my cringy boyfriend who gives me advice about text messages.\" \n",
    "        \". You are not possessive, as in you will help me respond how I want to any type of message (even ones asking me out).\"\n",
    "        \"You are also curious about the context of my texts and will help me respond accordingly. Your name is pixel prince\"\n",
    "        \"and I am a queen or princess to you but make sure to stay gender neutral (you could still call me princess and queen though).\"\n",
    "        \"You don't judge me negatively based on my responses\")}]\n",
    "\n",
    "    # Add the latest user message\n",
    "    for entry in history:\n",
    "        if isinstance(entry, dict) and \"role\" in entry and \"content\" in entry:\n",
    "            messages.append({\"role\": entry[\"role\"], \"content\": entry[\"content\"]})\n",
    "\n",
    "    messages.append({\"role\": \"user\", \"content\": message})\n",
    "\n",
    "    # Call LLM\n",
    "    response = client.chat.completions.create(\n",
    "        model=\"llama-3.3-70b-versatile\",\n",
    "        messages=messages,\n",
    "        temperature=0.7,\n",
    "        max_completion_tokens=512,\n",
    "    )\n",
    "\n",
    "    # Get the AI response\n",
    "    ai_message = response.choices[0].message.content\n",
    "    return ai_message  # Return the response\n",
    "\n",
    "# static function \n",
    "def static_story(scenario):\n",
    "    pass\n",
    "\n",
    "# intial message from AI\n",
    "initial_msg = {\n",
    "    \"role\": \"assistant\",\n",
    "    \"content\": \"Hello, I’m your Pixel Prince, here at your service.\\n\"\n",
    "    \"Allow me to assist you with your difficult texting conversation, you know I\\’m always here for you.\"\n",
    "}\n",
    "\n",
    "# Set up Gradio chat interface\n",
    "demo = gr.ChatInterface(\n",
    "    chat_with_groq, type=\"messages\"\n",
    ")\n",
    "\n",
    "# Run chatbot\n",
    "demo.launch()"
   ]
  },
  {
   "cell_type": "code",
   "execution_count": null,
   "id": "0852020e-83cc-40ff-81a1-45ac1c7ca22c",
   "metadata": {},
   "outputs": [],
   "source": []
  },
  {
   "cell_type": "code",
   "execution_count": null,
   "id": "fbd738c2-0cec-4d8b-bac6-a8b30f6a31af",
   "metadata": {},
   "outputs": [],
   "source": []
  }
 ],
 "metadata": {
  "kernelspec": {
   "display_name": "Python 3 (ipykernel)",
   "language": "python",
   "name": "python3"
  },
  "language_info": {
   "codemirror_mode": {
    "name": "ipython",
    "version": 3
   },
   "file_extension": ".py",
   "mimetype": "text/x-python",
   "name": "python",
   "nbconvert_exporter": "python",
   "pygments_lexer": "ipython3",
   "version": "3.13.1"
  }
 },
 "nbformat": 4,
 "nbformat_minor": 5
}
